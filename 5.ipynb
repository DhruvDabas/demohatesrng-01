{
 "cells": [
  {
   "cell_type": "code",
   "execution_count": null,
   "id": "d0fbfa67",
   "metadata": {},
   "outputs": [],
   "source": [
    "import tensorflow as tf\n",
    "from tensorflow.keras import layers, models, datasets\n",
    "from tensorflow.keras.applications import ResNet50\n",
    "\n",
    "# Load MNIST data\n",
    "(train_images, train_labels), (test_images, test_labels) = datasets.mnist.load_data()\n",
    "\n",
    "# Preprocess: resize to 32x32 (minimum for ResNet) and convert to 3 channels\n",
    "def preprocess(images):\n",
    "    images = tf.image.resize(images[..., tf.newaxis], [32, 32])  # Add channel and resize\n",
    "    images = tf.repeat(images, 3, axis=-1)  # Convert grayscale to RGB\n",
    "    return tf.keras.applications.resnet50.preprocess_input(images)\n",
    "\n",
    "train_images = preprocess(train_images)\n",
    "test_images = preprocess(test_images)\n",
    "\n",
    "# Load pretrained ResNet50 (without top layer)\n",
    "base_model = ResNet50(\n",
    "    weights='imagenet',\n",
    "    include_top=False,\n",
    "    input_shape=(32, 32, 3)\n",
    ")\n",
    "base_model.trainable = False  # Freeze pretrained layers\n",
    "\n",
    "# Add simple classification head\n",
    "model = models.Sequential([\n",
    "    base_model,\n",
    "    layers.GlobalAveragePooling2D(),\n",
    "    layers.Dense(10, activation='softmax')  # 10 classes for MNIST\n",
    "])\n",
    "\n",
    "# Compile and train\n",
    "model.compile(\n",
    "    optimizer='adam',\n",
    "    loss='sparse_categorical_crossentropy',\n",
    "    metrics=['accuracy']\n",
    ")\n",
    "\n",
    "history = model.fit(\n",
    "    train_images, train_labels,\n",
    "    epochs=5,\n",
    "    batch_size=64,\n",
    "    validation_data=(test_images, test_labels)\n",
    ")\n",
    "\n",
    "# Evaluate\n",
    "test_loss, test_acc = model.evaluate(test_images, test_labels)\n",
    "print(f\"\\nTest Accuracy: {test_acc:.4f}\")"
   ]
  },
  {
   "cell_type": "code",
   "execution_count": null,
   "id": "bf7ba639",
   "metadata": {},
   "outputs": [],
   "source": []
  }
 ],
 "metadata": {
  "kernelspec": {
   "display_name": "base",
   "language": "python",
   "name": "python3"
  },
  "language_info": {
   "name": "python",
   "version": "3.12.8"
  }
 },
 "nbformat": 4,
 "nbformat_minor": 5
}
