{
  "nbformat": 4,
  "nbformat_minor": 0,
  "metadata": {
    "colab": {
      "provenance": []
    },
    "kernelspec": {
      "name": "python3",
      "display_name": "Python 3"
    },
    "language_info": {
      "name": "python"
    }
  },
  "cells": [
    {
      "cell_type": "code",
      "source": [
        "import numpy as np\n",
        "import tensorflow as tf\n",
        "from sklearn.model_selection import train_test_split\n",
        "\n",
        "# Fix the seed\n",
        "tf.random.set_seed(42)\n",
        "np.random.seed(42)\n",
        "\n",
        "# === Data Preparation ===\n",
        "# Generate synthetic multivariate time series data\n",
        "def generate_time_series_data(n_samples=1000, n_timesteps=50, n_features=5):\n",
        "    X = np.random.rand(n_samples, n_timesteps, n_features)\n",
        "    y = np.sum(X[:, -1, :], axis=1, keepdims=True)  # target is sum of last timestep across features\n",
        "    return X, y\n",
        "\n",
        "X, y = generate_time_series_data()\n",
        "\n",
        "# Split into training and test sets\n",
        "X_train, X_test, y_train, y_test = train_test_split(X, y, test_size=0.2, random_state=42)\n",
        "\n",
        "# === RNN Model (using 1 feature only) ===\n",
        "X_rnn_train = X_train[:, :, 0:1]  # Use only 1 feature\n",
        "X_rnn_test = X_test[:, :, 0:1]\n",
        "\n",
        "rnn_model = tf.keras.Sequential([\n",
        "    tf.keras.layers.SimpleRNN(32, return_sequences=True, input_shape=[None, 1]),\n",
        "    tf.keras.layers.SimpleRNN(32, return_sequences=True),\n",
        "    tf.keras.layers.SimpleRNN(32),\n",
        "    tf.keras.layers.Dense(1)\n",
        "])\n",
        "\n",
        "rnn_model.compile(loss='mse', optimizer='adam', metrics=['mae'])\n",
        "rnn_model.fit(X_rnn_train, y_train, epochs=10, batch_size=32, verbose=0)\n",
        "rnn_eval = rnn_model.evaluate(X_rnn_test, y_test, verbose=0)\n",
        "\n",
        "# === LSTM Model (using all 5 features) ===\n",
        "lstm_model = tf.keras.Sequential([\n",
        "    tf.keras.layers.LSTM(32, input_shape=[None, 5]),  # No return_sequences\n",
        "    tf.keras.layers.Dense(14)\n",
        "])\n",
        "\n",
        "lstm_model.compile(loss='mse', optimizer='adam', metrics=['mae'])\n",
        "lstm_model.fit(X_train, np.repeat(y_train, 14, axis=1), epochs=10, batch_size=32, verbose=0)\n",
        "lstm_eval = lstm_model.evaluate(X_test, np.repeat(y_test, 14, axis=1), verbose=0)\n",
        "\n",
        "# === Results ===\n",
        "print(f\"RNN Evaluation - Loss: {rnn_eval[0]:.4f}, MAE: {rnn_eval[1]:.4f}\")\n",
        "print(f\"LSTM Evaluation - Loss: {lstm_eval[0]:.4f}, MAE: {lstm_eval[1]:.4f}\")\n"
      ],
      "metadata": {
        "id": "H6p-eViuCJVC",
        "colab": {
          "base_uri": "https://localhost:8080/"
        },
        "outputId": "c4a5aaf4-b8e2-40f6-db36-0c1e95855117"
      },
      "execution_count": 13,
      "outputs": [
        {
          "output_type": "stream",
          "name": "stdout",
          "text": [
            "RNN Evaluation - Loss: 0.2896, MAE: 0.4303\n",
            "LSTM Evaluation - Loss: 0.3248, MAE: 0.4525\n"
          ]
        }
      ]
    },
    {
      "cell_type": "code",
      "source": [],
      "metadata": {
        "id": "MoBnWFfTIBC8"
      },
      "execution_count": null,
      "outputs": []
    }
  ]
}